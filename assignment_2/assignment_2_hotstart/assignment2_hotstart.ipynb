{
 "cells": [
  {
   "cell_type": "markdown",
   "id": "888dcbdc",
   "metadata": {},
   "source": [
    "\n",
    "# Assignment 2: Transformer Architecture Exercise\n",
    "\n",
    "This notebook serves as a reference implementation for **Assignment 2** of the generative AI course.  The goal is to compare three prominent transformer architectures—**decoder‑only**, **encoder‑only**, and **encoder‑decoder**—on a common generative task.  The assignment requires training each architecture on the same dataset, evaluating their performance with common metrics, and analysing the implications of architectural differences on generative tasks and chain‑of‑thought reasoning.\n",
    "\n",
    "## Dataset selection\n",
    "\n",
    "For this exercise we use the **CNN/DailyMail** summarisation dataset (version `3.0.0`) from Hugging Face’s `datasets` library.  The dataset comprises news articles paired with human‑written summaries; each article–summary pair provides a natural input/output example for a generative model.  Because the data are already split into training/validation/test splits and are widely used for abstractive summarisation research, this dataset is appropriate for comparing generative architectures.  Although `WikiText` could be used for language modelling tasks, summarisation requires models to generate structured output given an input, which better illustrates differences between decoder‑only, encoder‑only, and encoder‑decoder designs.  For compute efficiency in this notebook we subsample the dataset (e.g. a few hundred training examples) rather than using the full corpus.\n"
   ]
  },
  {
   "cell_type": "markdown",
   "id": "77bb4b15",
   "metadata": {},
   "source": [
    "\n",
    "## Overview of transformer architectures\n",
    "\n",
    "We train three different transformer models:\n",
    "\n",
    "* **Decoder‑only (GPT‑style):** These models consist of stacked self‑attention blocks in which each token can attend only to previous tokens (causal masking).  We use `GPT‑2` as the base model and fine‑tune it to generate a summary from an article.  Because GPT‑2 is a pure language model, we construct input prompts of the form `\"summarize: <article>\"` and train the model to predict the target summary.  During training we mask out the prompt part of the input so that the loss is computed only on the summary tokens.\n",
    "\n",
    "* **Encoder‑only (BERT‑style):** Encoder‑only models such as `BERT` learn bi‑directional contextual representations using masked language modelling (MLM).  They are not inherently generative; they excel at understanding tasks (e.g. classification, token classification).  For a fair comparison on generative tasks we fine‑tune BERT on the same corpus using MLM, combining article and summary text into a single sequence.  At evaluation time we assess perplexity and use the `fill‑mask` capability to approximate generation.  This highlights BERT’s limitations on tasks requiring free‑form generation.\n",
    "\n",
    "* **Encoder‑decoder (T5‑style):** Models like `T5` encode the input sequence with an encoder and decode the output sequence with a separate decoder.  They can perform a wide range of text‑to‑text tasks, including summarisation and question answering.  We fine‑tune `T5‑small` on the CNN/DailyMail dataset using the standard prefix `\"summarize: \"` in the input to indicate the task.  During evaluation we compute ROUGE metrics on generated summaries.\n",
    "\n",
    "The following sections implement data loading, preprocessing, model fine‑tuning, and evaluation for each architecture.\n"
   ]
  },
  {
   "cell_type": "code",
   "execution_count": 3,
   "id": "1d888988",
   "metadata": {},
   "outputs": [
    {
     "name": "stdout",
     "output_type": "stream",
     "text": [
      "Using device: mps\n"
     ]
    }
   ],
   "source": [
    "\n",
    "import os\n",
    "import torch\n",
    "from datasets import load_dataset\n",
    "from transformers import (\n",
    "    AutoTokenizer,\n",
    "    AutoModelForCausalLM,\n",
    "    AutoModelForMaskedLM,\n",
    "    AutoModelForSeq2SeqLM,\n",
    "    DataCollatorForLanguageModeling,\n",
    "    DataCollatorForSeq2Seq,\n",
    "    Trainer,\n",
    "    TrainingArguments,\n",
    ")\n",
    "import evaluate\n",
    "from transformers import logging\n",
    "\n",
    "# Silence warnings for cleaner output\n",
    "logging.set_verbosity_error()\n",
    "\n",
    "# Use GPU if available\n",
    "device = torch.device(\"mps\" if torch.mps.is_available() else \"cpu\")\n",
    "print(f\"Using device: {device}\")\n"
   ]
  },
  {
   "cell_type": "markdown",
   "id": "542eddf5",
   "metadata": {},
   "source": [
    "\n",
    "## Load and inspect the dataset\n",
    "\n",
    "We load the CNN/DailyMail dataset using the Hugging Face `datasets` library.  To accelerate training for demonstration purposes we take a small subset of the training and validation sets (e.g. 500 training examples and 100 validation examples).  Each record contains two fields:\n",
    "\n",
    "* `\"article\"`: the news article text (input).\n",
    "* `\"highlights\"`: the human‑written summary (target).\n",
    "\n",
    "Below we load the dataset, inspect a few examples, and create the smaller subsets used for fine‑tuning.\n"
   ]
  },
  {
   "cell_type": "code",
   "execution_count": 4,
   "id": "6c7d3bae",
   "metadata": {},
   "outputs": [
    {
     "name": "stdout",
     "output_type": "stream",
     "text": [
      "Dataset splits: dict_keys(['train', 'validation', 'test'])\n",
      "Example training record: {'article': \"By . Anthony Bond . PUBLISHED: . 07:03 EST, 2 March 2013 . | . UPDATED: . 08:07 EST, 2 March 2013 . Three members of the same family who died in a static caravan from carbon monoxide poisoning would have been unconscious 'within minutes', investigators said today. The bodies of married couple John and Audrey Cook were discovered alongside their daughter, Maureen, at the mobile home they shared on Tremarle Home Park in Camborne, west Cornwall. The inquests have now opened into the deaths last Saturday, with investigators saying the three died along with the family's pet dog, of carbon monoxide poisoning from a cooker. Tragic: The inquests have opened into the deaths of three members of the same family who were found in their static caravan last weekend. John and Audrey Cook are pictured . Awful: The family died following carbon monoxide poisoning at this caravan at the Tremarle Home Park in Camborne, Cornwall . It is also believed there was no working carbon monoxide detector in the static caravan. Cornwall Fire and Rescue Service said this would have resulted in the three being unconscious 'within minutes', . A spokesman for Cornwall coroner Dr Emma Carlyon confirmed the inquests were opened and adjourned yesterday afternoon. They will resume at a later date. Devon and Cornwall Police confirmed on Monday that carbon monoxide poisoning had been established as the cause of death. A police spokesman said the source of the poisoning was 'believed to be from incorrect operation of the gas cooker'. Poisoning: This woman left flowers outside the caravan following the deaths. It has emerged that the trio would have been unconscious 'within minutes' Touching: This tribute was left outside the caravan following news of the deaths . Early readings from experts at the site revealed a potentially lethal level of carbon monoxide present within the caravan at the time it was taken, shortly after the discovery of the bodies. Friends and neighbours have paid tribute to the trio. One . neighbour, Sonya Owen, 53, said: 'It's very distressing. I knew the . daughter, she was living her with her mum and dad. Everybody is really . upset.' Margaret Holmes, 65, who lived near the couple and their . daughter, said: 'They had lived here for around 40 years and they kept . themselves to themselves. 'I just can’t believe this has . happened, it is so sad and I am so shocked, I think we all are, you just . don’t expect this sort of thing to happen on your doorstep. 'Everyone will miss them, we used to chat a lot when we were both in the garden. 'I would just like to send my condolences to their family, I can’t imagine what they’re going through.' Nic Clark, 52, who was good friends with daughter Maureen, added: 'They were a lovely kind family, a great trio. 'Maureen . used to go out and walk her dog, a little Jack Russell, it is so sad . what has happened, I understand the dog went with them. 'They . will be sorely missed and I think everyone is just in shock at the . moment, I would like to send my condolences to the Cook family.'\", 'highlights': 'John and .\\nAudrey Cook were discovered alongside their daughter, Maureen .\\nThey were found at Tremarle Home Park in Cornwall .\\nInvestigators say the three died of carbon monoxide .\\npoisoning .', 'id': '08cf276c9eadb638e0c7fdc83ce0229c8af5d09b'}\n"
     ]
    }
   ],
   "source": [
    "\n",
    "# Load the cnn_dailymail dataset (version 3.0.0)\n",
    "dataset = load_dataset(\"cnn_dailymail\", \"3.0.0\")\n",
    "\n",
    "# For quick experimentation, take a small subset\n",
    "train_size = 500\n",
    "val_size = 100\n",
    "small_train_dataset = dataset[\"train\"].shuffle(seed=42).select(range(train_size))\n",
    "small_val_dataset = dataset[\"validation\"].shuffle(seed=42).select(range(val_size))\n",
    "\n",
    "print(\"Dataset splits:\", dataset.keys())\n",
    "print(\"Example training record:\", small_train_dataset[0])\n"
   ]
  },
  {
   "cell_type": "markdown",
   "id": "08e9c398",
   "metadata": {},
   "source": [
    "\n",
    "## Decoder‑only model: GPT‑2 fine‑tuning\n",
    "\n",
    "A decoder‑only transformer must learn to generate a summary given an input article.  We use a prompt‑based approach: the input text has the form `\"summarize: <article>\"`, and the model is trained to produce the summary tokens.  To prevent the model from learning to predict the prompt tokens, we mask the loss on the prompt portion of the sequence (by setting corresponding labels to `-100`).\n",
    "\n",
    "We use the `GPT‑2` tokenizer and model from Hugging Face.  Because GPT‑2 lacks a padding token by default, we add a pad token equal to the end‑of‑text token.  We then tokenize the inputs and construct labels accordingly.  The function below performs these steps and is mapped over the dataset.\n"
   ]
  },
  {
   "cell_type": "code",
   "execution_count": 5,
   "id": "6a6c9854",
   "metadata": {},
   "outputs": [
    {
     "name": "stdout",
     "output_type": "stream",
     "text": [
      "Sample tokenized GPT-2 input:\n",
      "summarize: By . Anthony Bond . PUBLISHED: . 07:03 EST, 2 March 2013 . | . UPDATED: . 08:07 EST, 2 March 2013 . Three members of the same family who died in a static caravan from carbon monoxide poisoning would have been unconscious 'within minutes', investigators said today. The bodies of married couple John and Audrey Cook were discovered alongside their daughter, Maureen, at the mobile home they shared on Tremarle Home Park in Cam\n"
     ]
    }
   ],
   "source": [
    "# Load tokenizer and model for GPT-2\n",
    "gpt2_model_name = \"gpt2\"\n",
    "gpt2_tokenizer = AutoTokenizer.from_pretrained(gpt2_model_name)\n",
    "\n",
    "# Add a padding token (GPT-2 does not have one)\n",
    "gpt2_tokenizer.pad_token = gpt2_tokenizer.eos_token\n",
    "\n",
    "# Define the preprocessing function for GPT-2\n",
    "def preprocess_gpt2(examples):\n",
    "    prefix = \"summarize: \"\n",
    "    inputs = [prefix + art for art in examples[\"article\"]]\n",
    "    targets = examples[\"highlights\"]\n",
    "\n",
    "    # Tokenize inputs and targets together, pad to max_length\n",
    "    model_inputs = gpt2_tokenizer(\n",
    "        inputs, text_target=targets,\n",
    "        max_length=512, truncation=True, padding=\"max_length\"\n",
    "    )\n",
    "\n",
    "    # Ensure labels are padded to max_length as well\n",
    "    if \"labels\" in model_inputs:\n",
    "        labels = model_inputs[\"labels\"]\n",
    "        for i in range(len(labels)):\n",
    "            labels[i] = labels[i] + [-100] * (512 - len(labels[i])) if len(labels[i]) < 512 else labels[i][:512]\n",
    "        model_inputs[\"labels\"] = labels\n",
    "    return model_inputs\n",
    "\n",
    "# Apply preprocessing to the small datasets\n",
    "train_gpt2 = small_train_dataset.map(preprocess_gpt2, batched=True, remove_columns=dataset[\"train\"].column_names)\n",
    "val_gpt2 = small_val_dataset.map(preprocess_gpt2, batched=True, remove_columns=dataset[\"validation\"].column_names)\n",
    "\n",
    "print(\"Sample tokenized GPT-2 input:\")\n",
    "print(gpt2_tokenizer.decode(train_gpt2[0][\"input_ids\"][:100]))\n"
   ]
  },
  {
   "cell_type": "code",
   "execution_count": 6,
   "id": "f0862232",
   "metadata": {},
   "outputs": [
    {
     "name": "stdout",
     "output_type": "stream",
     "text": [
      "Input IDs and Labels dimensions for first 10 samples:\n",
      "Sample 0: Input IDs length = 512, Labels length = 512\n",
      "Sample 1: Input IDs length = 512, Labels length = 512\n",
      "Sample 2: Input IDs length = 512, Labels length = 512\n",
      "Sample 3: Input IDs length = 512, Labels length = 512\n",
      "Sample 4: Input IDs length = 512, Labels length = 512\n",
      "Sample 5: Input IDs length = 512, Labels length = 512\n",
      "Sample 6: Input IDs length = 512, Labels length = 512\n",
      "Sample 7: Input IDs length = 512, Labels length = 512\n",
      "Sample 8: Input IDs length = 512, Labels length = 512\n",
      "Sample 9: Input IDs length = 512, Labels length = 512\n"
     ]
    }
   ],
   "source": [
    "print(\"Input IDs and Labels dimensions for first 10 samples:\")\n",
    "for i in range(10):\n",
    "    print(f\"Sample {i}: Input IDs length = {len(train_gpt2[i]['input_ids'])}, Labels length = {len(train_gpt2[i]['labels'])}\")"
   ]
  },
  {
   "cell_type": "markdown",
   "id": "42f67ece",
   "metadata": {},
   "source": [
    "\n",
    "### GPT‑2 training configuration\n",
    "\n",
    "We use the Hugging Face `Trainer` API to fine‑tune the GPT‑2 model.  A `DataCollatorForLanguageModeling` automatically pads the inputs and labels and performs dynamic masking where appropriate (although in our custom loss masking we already set `-100` values).  The training arguments below specify a small number of epochs and batch sizes for illustration; adjust these for a full training run.\n"
   ]
  },
  {
   "cell_type": "code",
   "execution_count": 7,
   "id": "ee1ccb19",
   "metadata": {},
   "outputs": [
    {
     "name": "stdout",
     "output_type": "stream",
     "text": [
      "accelerate: 1.10.1\n",
      "torch: 2.8.0\n",
      "transformers: 4.56.1\n"
     ]
    }
   ],
   "source": [
    "import accelerate, torch, transformers\n",
    "print(\"accelerate:\", accelerate.__version__)\n",
    "print(\"torch:\", torch.__version__)\n",
    "print(\"transformers:\", transformers.__version__)"
   ]
  },
  {
   "cell_type": "code",
   "execution_count": 12,
   "id": "c7a0222b",
   "metadata": {},
   "outputs": [
    {
     "name": "stderr",
     "output_type": "stream",
     "text": [
      "/Users/rkutyna/CascadeProjects/MSIT3103/MSIT3103-GenAI-assignments/.venv/lib/python3.13/site-packages/torch/utils/data/dataloader.py:684: UserWarning: 'pin_memory' argument is set as true but not supported on MPS now, then device pinned memory won't be used.\n",
      "  warnings.warn(warn_msg)\n"
     ]
    },
    {
     "name": "stdout",
     "output_type": "stream",
     "text": [
      "{'loss': 3.1534, 'grad_norm': 3.9447619915008545, 'learning_rate': 3.237410071942446e-05, 'epoch': 1.592}\n",
      "{'eval_loss': 2.940354347229004, 'eval_runtime': 6.0791, 'eval_samples_per_second': 16.45, 'eval_steps_per_second': 8.225, 'epoch': 1.592}\n",
      "{'train_runtime': 328.1391, 'train_samples_per_second': 4.571, 'train_steps_per_second': 0.576, 'train_loss': 3.0467438874421298, 'epoch': 3.0}\n"
     ]
    },
    {
     "data": {
      "text/plain": [
       "TrainOutput(global_step=189, training_loss=3.0467438874421298, metrics={'train_runtime': 328.1391, 'train_samples_per_second': 4.571, 'train_steps_per_second': 0.576, 'train_loss': 3.0467438874421298, 'epoch': 3.0})"
      ]
     },
     "execution_count": 12,
     "metadata": {},
     "output_type": "execute_result"
    }
   ],
   "source": [
    "\n",
    "# Define data collator\n",
    "data_collator_gpt2 = DataCollatorForLanguageModeling(tokenizer=gpt2_tokenizer, mlm=False)\n",
    "\n",
    "# Load the GPT-2 model\n",
    "gpt2_model = AutoModelForCausalLM.from_pretrained(gpt2_model_name)\n",
    "\n",
    "# Training arguments\n",
    "training_args_gpt2 = TrainingArguments(\n",
    "    output_dir=\"./gpt2-summarization\",\n",
    "    eval_strategy=\"steps\",\n",
    "    eval_steps=100,\n",
    "    logging_steps=100,\n",
    "    per_device_train_batch_size=2,\n",
    "    per_device_eval_batch_size=2,\n",
    "    num_train_epochs=3,\n",
    "    weight_decay=0.01,\n",
    "    save_steps=500,\n",
    "    save_total_limit=1,\n",
    "    warmup_steps=50,\n",
    "    gradient_accumulation_steps=4,\n",
    "    fp16=torch.cuda.is_available(),\n",
    "    report_to=[],  # disable logging to wandb\n",
    ")\n",
    "\n",
    "# Create Trainer for GPT-2\n",
    "trainer_gpt2 = Trainer(\n",
    "    model=gpt2_model,\n",
    "    args=training_args_gpt2,\n",
    "    train_dataset=train_gpt2,\n",
    "    eval_dataset=val_gpt2,\n",
    "    data_collator=data_collator_gpt2,\n",
    ")\n",
    "\n",
    "# Uncomment the line below to train; training can take several minutes even on small subsets\n",
    "trainer_gpt2.train()\n"
   ]
  },
  {
   "cell_type": "code",
   "execution_count": 13,
   "id": "443470a0",
   "metadata": {},
   "outputs": [
    {
     "name": "stdout",
     "output_type": "stream",
     "text": [
      "Using device: mps\n",
      "summarize: The quick brown fox jumps over the lazy dog. The dog is so happy to be home, but the fox is so scared of the dog that he jumps over the lazy dog. The dog is so happy to be home, but\n"
     ]
    }
   ],
   "source": [
    "# Generated by GPT-5 (high reasoning)\n",
    "# Prompt: Can you help me with this error? (ERROR with mps/apple silicon acceleration)\n",
    "\n",
    "import torch\n",
    "\n",
    "# Choose device\n",
    "device = torch.device(\n",
    "    \"mps\" if torch.backends.mps.is_available() else\n",
    "    (\"cuda\" if torch.cuda.is_available() else \"cpu\")\n",
    ")\n",
    "print(\"Using device:\", device)\n",
    "\n",
    "# Ensure GPT-2 has a pad token and move model to device in float32\n",
    "gpt2_tokenizer.pad_token = gpt2_tokenizer.eos_token\n",
    "gpt2_model.config.pad_token_id = gpt2_tokenizer.pad_token_id\n",
    "\n",
    "gpt2_model.to(device=device, dtype=torch.float32)\n",
    "gpt2_model.eval()\n",
    "\n",
    "sample_input = \"summarize: The quick brown fox jumps over the lazy dog.\"\n",
    "inputs = gpt2_tokenizer(sample_input, return_tensors=\"pt\", padding=True).to(device)\n",
    "\n",
    "# Warm-up pass to force allocation on MPS\n",
    "with torch.no_grad():\n",
    "    _ = gpt2_model(input_ids=inputs[\"input_ids\"][:, :1], attention_mask=torch.ones_like(inputs[\"input_ids\"][:, :1]))\n",
    "\n",
    "# Generate (pass the whole dict so attention_mask is used)\n",
    "with torch.no_grad():\n",
    "    outputs = gpt2_model.generate(\n",
    "        **inputs,\n",
    "        max_length=50,\n",
    "        num_return_sequences=1,\n",
    "        do_sample=False,  # greedy; change if you want sampling\n",
    "    )\n",
    "\n",
    "print(gpt2_tokenizer.decode(outputs[0], skip_special_tokens=True))"
   ]
  },
  {
   "cell_type": "code",
   "execution_count": 14,
   "id": "70f5d21d",
   "metadata": {},
   "outputs": [
    {
     "name": "stdout",
     "output_type": "stream",
     "text": [
      "Generated summary:  The dog is so happy to be home, but the fox is so scared of the dog that he jumps over the lazy dog. The dog is so happy to be home, but\n"
     ]
    }
   ],
   "source": [
    "# Test the model with a sample input\n",
    "sample_input = \"summarize: The quick brown fox jumps over the lazy dog.\"\n",
    "inputs = gpt2_tokenizer(sample_input, return_tensors=\"pt\").to(device)\n",
    "outputs = gpt2_model.generate(inputs[\"input_ids\"], max_length=50, num_return_sequences=1)\n",
    "text_out= gpt2_tokenizer.decode(outputs[0], skip_special_tokens=True)\n",
    "print(\"Generated summary:\", text_out[len(sample_input):])"
   ]
  },
  {
   "cell_type": "markdown",
   "id": "16871507",
   "metadata": {},
   "source": [
    "## What do you observe in the output?\n",
    "1. Can you postprocess the output so that it only starts printing after the input sequence?\n",
    "2. Can you iterate and improve the summary quality?"
   ]
  },
  {
   "cell_type": "markdown",
   "id": "7d29cc30",
   "metadata": {},
   "source": [
    "\n",
    "## Encoder‑only model: BERT fine‑tuning\n",
    "\n",
    "BERT uses bi‑directional self‑attention and is optimised for understanding rather than generation.  To apply BERT on our corpus we fine‑tune it using the **masked language modelling (MLM)** objective.  We concatenate the article and its summary into a single sequence and randomly mask tokens using `DataCollatorForLanguageModeling`.  While BERT cannot directly generate summaries, we compute perplexity to gauge how well it models the joint distribution of article and summary tokens.  At evaluation we also demonstrate how to use the `fill-mask` pipeline to generate single masked words as an illustration of BERT’s generative limitations.\n"
   ]
  },
  {
   "cell_type": "code",
   "execution_count": 15,
   "id": "6bee9119",
   "metadata": {},
   "outputs": [
    {
     "name": "stdout",
     "output_type": "stream",
     "text": [
      "First 10 samples of the dataset:\n",
      "small_train_dataset[0]: dict_keys(['article', 'highlights', 'id'])\n",
      "\t\tsmall_train_dataset[0]: By . Anthony Bond . PUBLISHED: . 07:03 EST, 2 March 2013 . | . UPDATED: . 08:07 EST, 2 March 2013 . Three members of the same family who died in a sta... \n",
      "\t->\n",
      "\t\tJohn and .\n",
      "Audrey Cook were discovered alongside their daughter, Maureen .\n",
      "They were found at Tremarle Home Park in Cornwall .\n",
      "Investigators say the three died of carbon monoxide .\n",
      "poisoning .\n",
      "\t\tsmall_train_dataset[1]: UNITED NATIONS (CNN) -- A rare meeting of U.N. Security Council heads of state, led for the first time by a U.S. president, adopted a resolution focus... \n",
      "\t->\n",
      "\t\tNEW: Libya can serve as example of cooperation, White House spokesman says .\n",
      "Resolution calls for preventing nuclear weapons from being stolen, used by military .\n",
      "Obama, Russian President Dimitry Medvedev working to reduce stockpiles .\n",
      "Venezuelan president Hugo Chavez on \"Larry King Live\" tonight, 9 ET .\n",
      "\t\tsmall_train_dataset[2]: Cover-up: Former Archbishop Lord Hope allowed a paedophile priest to escape punishment for sex crimes, a judge's report claims . A former archbishop w... \n",
      "\t->\n",
      "\t\tVery Reverend Robert Waddington sexually abused choirboys for decades .\n",
      "Inquiry into the abuse has slammed Lord Hope, former Archbishop of York .\n",
      "Report claims he was made aware of misconduct 19 times but did not act .\n",
      "Despite this - he still holds influential post and sits in the House of Lords .\n",
      "\t\tsmall_train_dataset[3]: By . Kristie Lau . PUBLISHED: . 10:48 EST, 14 June 2012 . | . UPDATED: . 11:02 EST, 14 June 2012 . TLC has pulled an episode of Cake Boss from future ... \n",
      "\t->\n",
      "\t\tMonday night's episode showed Buddy Valastro tricking Anthony Bellifemine into thinking that Carmen Carerra, 27, was born as a woman .\n",
      "TLC removed the episode from future screening schedules .\n",
      "\t\tsmall_train_dataset[4]: 'The lamps are going out all over Europe. We shall not see them lit again in our lifetime' Foreign Secretary Sir Edward Grey, August 3, 1914 . Prime M... \n",
      "\t->\n",
      "\t\tPeople asked to turn out lights for hour between 10 and 11pm tomorrow .\n",
      "Gesture is in remembrance of those killed in the First World War .\n",
      "Tower Bridge and 10 Downing Street will also extinguish all but one light .\n",
      "\t\tsmall_train_dataset[5]: Roy Hodgson has come under fire for making public Raheem Sterling's admission that he was feeling tired ahead of England's Euro 2016 qualifier with Es... \n",
      "\t->\n",
      "\t\tRoy Hodgson revealed that Raheem Sterling had told him he was feeling fatigued prior to England's Euro 2016 qualifier with Estonia .\n",
      "Sterling was dropped from the starting line-up in place of Adam Lallana .\n",
      "The Liverpool man later came on as a substitute as England won 1-0 .\n",
      "Hodgson was criticised by Sky Sports pundits Jamie Redknapp and Jamie Carragher for making Sterling's admission of tiredness public .\n",
      "Wayne Rooney's free-kick preserved England's perfect start to qualifying .\n",
      "\t\tsmall_train_dataset[6]: Every frontline police officer should be offered a Taser to help fight the threat from lone-wolf terrorists, a police leader declared yesterday. Steve... \n",
      "\t->\n",
      "\t\tCalls for every police officer to be offered a Taser to fight terrorist threat .\n",
      "Police Federation set to vote on giving all frontline officers training .\n",
      "Terrorist threat level for police was raised to severe after Paris attacks .\n",
      "\t\tsmall_train_dataset[7]: By . Dan Bloom . It's one very, very small step for man - but a giant leap for antkind. Around 800 common ants, usually found pattering across pavemen... \n",
      "\t->\n",
      "\t\t800 common pavement ants are now living on International Space Station .\n",
      "Scientists will examine how they work together in low gravity to find food .\n",
      "The ants' methods can then be copied to develop 'intelligent' search robots .\n",
      "\t\tsmall_train_dataset[8]: By . Jill Reilly . PUBLISHED: . 09:26 EST, 14 June 2012 . | . UPDATED: . 13:19 EST, 14 June 2012 . A pensioner died from fatal injuries after being hi... \n",
      "\t->\n",
      "\t\tDavid Wilcockson, 71, was bowling at a ground in  Cranleigh, Surrey when the ball struck him on the head .\n",
      "Died in hospital on June 1 after 13 days in a coma .\n",
      "He was the longest-serving member of the Old Dorkinians, joining the club in 1959 .\n",
      "The pensioner had set himself a target of 3,000 wickets - and died just 101 short .\n",
      "\t\tsmall_train_dataset[9]: Workers digging an underground garage for a new hotel  recently struck something big about 30 feet below the surface. This week they uncovered it - a ... \n",
      "\t->\n",
      "\t\tThe boulder was found by a construction crew in Everett, Washington .\n",
      "The rock is bigger than an SUV and close to 19 feet long .\n"
     ]
    }
   ],
   "source": [
    "# Print first 10 samples of the dataset\n",
    "print(\"First 10 samples of the dataset:\")\n",
    "print(\"small_train_dataset[0]:\", small_train_dataset[0].keys())\n",
    "for i in range(10):\n",
    "    print(f\"\\t\\tsmall_train_dataset[{i}]: {small_train_dataset[i]['article'][:150]}... \\n\\t->\\n\\t\\t{small_train_dataset[i]['highlights']}\")"
   ]
  },
  {
   "cell_type": "code",
   "execution_count": 16,
   "id": "aba715f7",
   "metadata": {},
   "outputs": [
    {
     "data": {
      "application/vnd.jupyter.widget-view+json": {
       "model_id": "f68bd134d91e4ea6b76f8d8e4079d84b",
       "version_major": 2,
       "version_minor": 0
      },
      "text/plain": [
       "Map:   0%|          | 0/100 [00:00<?, ? examples/s]"
      ]
     },
     "metadata": {},
     "output_type": "display_data"
    },
    {
     "name": "stderr",
     "output_type": "stream",
     "text": [
      "/Users/rkutyna/CascadeProjects/MSIT3103/MSIT3103-GenAI-assignments/.venv/lib/python3.13/site-packages/torch/utils/data/dataloader.py:684: UserWarning: 'pin_memory' argument is set as true but not supported on MPS now, then device pinned memory won't be used.\n",
      "  warnings.warn(warn_msg)\n"
     ]
    },
    {
     "name": "stdout",
     "output_type": "stream",
     "text": [
      "{'loss': 2.2608, 'grad_norm': 9.490689277648926, 'learning_rate': 1.7333333333333336e-05, 'epoch': 0.8}\n",
      "{'eval_loss': 1.8042117357254028, 'eval_runtime': 4.5599, 'eval_samples_per_second': 21.93, 'eval_steps_per_second': 5.483, 'epoch': 0.8}\n",
      "{'train_runtime': 92.1201, 'train_samples_per_second': 5.428, 'train_steps_per_second': 1.357, 'train_loss': 2.2258151245117186, 'epoch': 1.0}\n"
     ]
    },
    {
     "data": {
      "text/plain": [
       "('./bert-mlm/tokenizer_config.json',\n",
       " './bert-mlm/special_tokens_map.json',\n",
       " './bert-mlm/vocab.txt',\n",
       " './bert-mlm/added_tokens.json',\n",
       " './bert-mlm/tokenizer.json')"
      ]
     },
     "execution_count": 16,
     "metadata": {},
     "output_type": "execute_result"
    }
   ],
   "source": [
    "\n",
    "# Load tokenizer and model for BERT\n",
    "bert_model_name = \"bert-base-uncased\"\n",
    "bert_tokenizer = AutoTokenizer.from_pretrained(bert_model_name)\n",
    "\n",
    "# Define preprocessing: combine article and summary\n",
    "\n",
    "def preprocess_bert(examples):\n",
    "    concatenated_texts = [\n",
    "        art + \" \" + summ \n",
    "        for art, summ in zip(examples[\"article\"], examples[\"highlights\"])\n",
    "    ]\n",
    "    model_inputs = bert_tokenizer(concatenated_texts, max_length=512, truncation=True)\n",
    "    return model_inputs\n",
    "\n",
    "train_bert = small_train_dataset.map(preprocess_bert, batched=True, remove_columns=dataset[\"train\"].column_names)\n",
    "val_bert = small_val_dataset.map(preprocess_bert, batched=True, remove_columns=dataset[\"validation\"].column_names)\n",
    "\n",
    "# Data collator with MLM\n",
    "mlm_probability = 0.15\n",
    "data_collator_bert = DataCollatorForLanguageModeling(tokenizer=bert_tokenizer, mlm=True, mlm_probability=mlm_probability)\n",
    "\n",
    "# Load BERT model\n",
    "bert_model = AutoModelForMaskedLM.from_pretrained(bert_model_name)\n",
    "\n",
    "# Training arguments for BERT\n",
    "training_args_bert = TrainingArguments(\n",
    "    output_dir=\"./bert-mlm\",\n",
    "    eval_strategy=\"steps\",\n",
    "    eval_steps=100,\n",
    "    logging_steps=100,\n",
    "    per_device_train_batch_size=4,\n",
    "    per_device_eval_batch_size=4,\n",
    "    num_train_epochs=1,\n",
    "    weight_decay=0.01,\n",
    "    save_steps=500,\n",
    "    save_total_limit=1,\n",
    "    warmup_steps=50,\n",
    "    gradient_accumulation_steps=1,\n",
    "    fp16=torch.cuda.is_available(),\n",
    "    report_to=[],\n",
    ")\n",
    "\n",
    "trainer_bert = Trainer(\n",
    "    model=bert_model,\n",
    "    args=training_args_bert,\n",
    "    train_dataset=train_bert,\n",
    "    eval_dataset=val_bert,\n",
    "    data_collator=data_collator_bert,\n",
    ")\n",
    "\n",
    "# Uncomment the line below to train the BERT model\n",
    "trainer_bert.train()\n",
    "# save the model\n",
    "bert_model.save_pretrained(\"./bert-mlm\")\n",
    "bert_tokenizer.save_pretrained(\"./bert-mlm\")\n"
   ]
  },
  {
   "cell_type": "code",
   "execution_count": 17,
   "id": "49de6626",
   "metadata": {},
   "outputs": [
    {
     "name": "stdout",
     "output_type": "stream",
     "text": [
      "Sample 9: torch.Size([1, 12, 30522]) logits\n",
      "News dataset loaded with 1000 samples.\n"
     ]
    },
    {
     "name": "stderr",
     "output_type": "stream",
     "text": [
      "/Users/rkutyna/CascadeProjects/MSIT3103/MSIT3103-GenAI-assignments/.venv/lib/python3.13/site-packages/torch/utils/data/dataloader.py:684: UserWarning: 'pin_memory' argument is set as true but not supported on MPS now, then device pinned memory won't be used.\n",
      "  warnings.warn(warn_msg)\n"
     ]
    },
    {
     "name": "stdout",
     "output_type": "stream",
     "text": [
      "{'loss': 0.5702, 'grad_norm': 0.7809127569198608, 'learning_rate': 4.2461538461538465e-05, 'epoch': 0.8}\n",
      "{'eval_loss': 0.32723987102508545, 'eval_runtime': 42.2125, 'eval_samples_per_second': 23.69, 'eval_steps_per_second': 2.961, 'epoch': 0.8}\n",
      "{'loss': 0.3016, 'grad_norm': 0.46356937289237976, 'learning_rate': 2.7076923076923078e-05, 'epoch': 1.6}\n",
      "{'eval_loss': 0.22899016737937927, 'eval_runtime': 41.9356, 'eval_samples_per_second': 23.846, 'eval_steps_per_second': 2.981, 'epoch': 1.6}\n",
      "{'loss': 0.2509, 'grad_norm': 0.398881196975708, 'learning_rate': 1.1692307692307693e-05, 'epoch': 2.4}\n",
      "{'eval_loss': 0.1859639286994934, 'eval_runtime': 41.5552, 'eval_samples_per_second': 24.064, 'eval_steps_per_second': 3.008, 'epoch': 2.4}\n",
      "{'train_runtime': 397.3076, 'train_samples_per_second': 7.551, 'train_steps_per_second': 0.944, 'train_loss': 0.3441635030110677, 'epoch': 3.0}\n"
     ]
    },
    {
     "data": {
      "text/plain": [
       "TrainOutput(global_step=375, training_loss=0.3441635030110677, metrics={'train_runtime': 397.3076, 'train_samples_per_second': 7.551, 'train_steps_per_second': 0.944, 'train_loss': 0.3441635030110677, 'epoch': 3.0})"
      ]
     },
     "execution_count": 17,
     "metadata": {},
     "output_type": "execute_result"
    }
   ],
   "source": [
    "# Print output of bert model for sample input\n",
    "sample_input = \"The quick brown fox jumps over the lazy dog.\"\n",
    "inputs = bert_tokenizer(sample_input, return_tensors=\"pt\").to(device)\n",
    "outputs = bert_model(**inputs)\n",
    "print(f\"Sample {i}: {outputs.logits.shape} logits\")       \n",
    "\n",
    "# Freeze the BERT model and train a classifier on top\n",
    "# load a news sentiment classification dataset\n",
    "from datasets import load_dataset\n",
    "news_dataset = load_dataset(\"ag_news\", split=\"train[:1000]\")\n",
    "print(\"News dataset loaded with\", len(news_dataset), \"samples.\")\n",
    "# Preprocess the dataset for BERT\n",
    "def preprocess_news(examples):\n",
    "    model_inputs = bert_tokenizer(examples[\"text\"], max_length=512, truncation=True, padding=\"max_length\")\n",
    "    model_inputs[\"labels\"] = examples[\"label\"]\n",
    "    return model_inputs\n",
    "train_news = news_dataset.map(preprocess_news, batched=True, remove_columns=news_dataset.column_names)\n",
    "# Use the trained model as a feature extractor and add a classification head\n",
    "def get_news_classifier_model():\n",
    "    \"\"\"\n",
    "    load the trained BERT model and add a classification head\n",
    "    \"\"\"\n",
    "    model = AutoModelForMaskedLM.from_pretrained(\"./bert-mlm\") # Load the trained BERT model\n",
    "    # Freeze the BERT model\n",
    "    for param in model.bert.parameters():\n",
    "        param.requires_grad = False\n",
    "    # Add a classification head\n",
    "    model.classifier = torch.nn.Linear(model.config.hidden_size, 4)  # 4 classes for AG News\n",
    "    return model\n",
    "\n",
    "news_classifier_model = get_news_classifier_model()\n",
    "# Training arguments for news classifier\n",
    "news_training_args = TrainingArguments(\n",
    "    output_dir=\"./news-classifier\",\n",
    "    eval_strategy=\"steps\",\n",
    "    eval_steps=100,\n",
    "    logging_steps=100,\n",
    "    per_device_train_batch_size=8,\n",
    "    per_device_eval_batch_size=8,\n",
    "    num_train_epochs=3,\n",
    "    weight_decay=0.01,\n",
    "    save_steps=500,\n",
    "    save_total_limit=1,\n",
    "    warmup_steps=50,\n",
    "    gradient_accumulation_steps=1,\n",
    "    fp16=torch.cuda.is_available(),\n",
    "    report_to=[],\n",
    ")\n",
    "# Create Trainer for news classifier\n",
    "news_trainer = Trainer(\n",
    "    model=news_classifier_model,\n",
    "    args=news_training_args,\n",
    "    train_dataset=train_news,\n",
    "    eval_dataset=train_news,  # For simplicity, using the same dataset for eval\n",
    "    data_collator=DataCollatorForLanguageModeling(tokenizer=bert_tokenizer, mlm=False),\n",
    ")\n",
    "# Uncomment the line below to train the news classifier\n",
    "news_trainer.train()"
   ]
  },
  {
   "cell_type": "code",
   "execution_count": 18,
   "id": "c3e0b860",
   "metadata": {},
   "outputs": [
    {
     "name": "stdout",
     "output_type": "stream",
     "text": [
      "Using device: mps\n"
     ]
    },
    {
     "name": "stderr",
     "output_type": "stream",
     "text": [
      "/Users/rkutyna/CascadeProjects/MSIT3103/MSIT3103-GenAI-assignments/.venv/lib/python3.13/site-packages/transformers/training_args.py:2278: UserWarning: `use_mps_device` is deprecated and will be removed in version 5.0 of 🤗 Transformers. `mps` device will be used by default if available similar to the way `cuda` device is used.Therefore, no action from user is required. \n",
      "  warnings.warn(\n"
     ]
    },
    {
     "name": "stdout",
     "output_type": "stream",
     "text": [
      "News dataset loaded with 1000 samples.\n"
     ]
    },
    {
     "name": "stderr",
     "output_type": "stream",
     "text": [
      "/var/folders/yr/p03j319114v61sg1cs61p6r80000gn/T/ipykernel_5736/2083709714.py:65: FutureWarning: `tokenizer` is deprecated and will be removed in version 5.0.0 for `Trainer.__init__`. Use `processing_class` instead.\n",
      "  news_trainer = Trainer(\n",
      "/Users/rkutyna/CascadeProjects/MSIT3103/MSIT3103-GenAI-assignments/.venv/lib/python3.13/site-packages/torch/utils/data/dataloader.py:684: UserWarning: 'pin_memory' argument is set as true but not supported on MPS now, then device pinned memory won't be used.\n",
      "  warnings.warn(warn_msg)\n"
     ]
    },
    {
     "name": "stdout",
     "output_type": "stream",
     "text": [
      "{'loss': 1.0303, 'grad_norm': 4.586305141448975, 'learning_rate': 4.831034482758621e-05, 'epoch': 0.2}\n",
      "{'eval_loss': 0.535821795463562, 'eval_runtime': 34.7279, 'eval_samples_per_second': 28.795, 'eval_steps_per_second': 14.398, 'epoch': 0.2}\n",
      "{'loss': 0.9805, 'grad_norm': 0.09522397071123123, 'learning_rate': 4.486206896551725e-05, 'epoch': 0.4}\n",
      "{'eval_loss': 1.0917686223983765, 'eval_runtime': 34.1975, 'eval_samples_per_second': 29.242, 'eval_steps_per_second': 14.621, 'epoch': 0.4}\n",
      "{'loss': 0.8689, 'grad_norm': 0.26558780670166016, 'learning_rate': 4.141379310344828e-05, 'epoch': 0.6}\n",
      "{'eval_loss': 0.5263210535049438, 'eval_runtime': 34.6338, 'eval_samples_per_second': 28.874, 'eval_steps_per_second': 14.437, 'epoch': 0.6}\n",
      "{'loss': 0.6004, 'grad_norm': 0.05033459886908531, 'learning_rate': 3.796551724137931e-05, 'epoch': 0.8}\n",
      "{'eval_loss': 0.5818000435829163, 'eval_runtime': 33.9352, 'eval_samples_per_second': 29.468, 'eval_steps_per_second': 14.734, 'epoch': 0.8}\n",
      "{'loss': 0.7289, 'grad_norm': 0.16762292385101318, 'learning_rate': 3.451724137931035e-05, 'epoch': 1.0}\n",
      "{'eval_loss': 0.5890069603919983, 'eval_runtime': 33.8982, 'eval_samples_per_second': 29.5, 'eval_steps_per_second': 14.75, 'epoch': 1.0}\n"
     ]
    },
    {
     "name": "stderr",
     "output_type": "stream",
     "text": [
      "/Users/rkutyna/CascadeProjects/MSIT3103/MSIT3103-GenAI-assignments/.venv/lib/python3.13/site-packages/torch/utils/data/dataloader.py:684: UserWarning: 'pin_memory' argument is set as true but not supported on MPS now, then device pinned memory won't be used.\n",
      "  warnings.warn(warn_msg)\n"
     ]
    },
    {
     "name": "stdout",
     "output_type": "stream",
     "text": [
      "{'loss': 0.3806, 'grad_norm': 15.623650550842285, 'learning_rate': 3.106896551724138e-05, 'epoch': 1.2}\n",
      "{'eval_loss': 0.4662708044052124, 'eval_runtime': 33.9337, 'eval_samples_per_second': 29.469, 'eval_steps_per_second': 14.735, 'epoch': 1.2}\n",
      "{'loss': 0.6352, 'grad_norm': 20.103633880615234, 'learning_rate': 2.7620689655172417e-05, 'epoch': 1.4}\n",
      "{'eval_loss': 0.3645251393318176, 'eval_runtime': 33.9655, 'eval_samples_per_second': 29.442, 'eval_steps_per_second': 14.721, 'epoch': 1.4}\n",
      "{'loss': 0.4072, 'grad_norm': 0.36894330382347107, 'learning_rate': 2.417241379310345e-05, 'epoch': 1.6}\n",
      "{'eval_loss': 0.2987467050552368, 'eval_runtime': 33.917, 'eval_samples_per_second': 29.484, 'eval_steps_per_second': 14.742, 'epoch': 1.6}\n",
      "{'loss': 0.3727, 'grad_norm': 0.050471995025873184, 'learning_rate': 2.0724137931034484e-05, 'epoch': 1.8}\n",
      "{'eval_loss': 0.272615522146225, 'eval_runtime': 33.9307, 'eval_samples_per_second': 29.472, 'eval_steps_per_second': 14.736, 'epoch': 1.8}\n",
      "{'loss': 0.5006, 'grad_norm': 0.19159317016601562, 'learning_rate': 1.727586206896552e-05, 'epoch': 2.0}\n",
      "{'eval_loss': 0.2411702573299408, 'eval_runtime': 34.0072, 'eval_samples_per_second': 29.406, 'eval_steps_per_second': 14.703, 'epoch': 2.0}\n"
     ]
    },
    {
     "name": "stderr",
     "output_type": "stream",
     "text": [
      "/Users/rkutyna/CascadeProjects/MSIT3103/MSIT3103-GenAI-assignments/.venv/lib/python3.13/site-packages/torch/utils/data/dataloader.py:684: UserWarning: 'pin_memory' argument is set as true but not supported on MPS now, then device pinned memory won't be used.\n",
      "  warnings.warn(warn_msg)\n"
     ]
    },
    {
     "name": "stdout",
     "output_type": "stream",
     "text": [
      "{'loss': 0.2503, 'grad_norm': 0.032772358506917953, 'learning_rate': 1.3827586206896554e-05, 'epoch': 2.2}\n",
      "{'eval_loss': 0.2828271985054016, 'eval_runtime': 34.7492, 'eval_samples_per_second': 28.778, 'eval_steps_per_second': 14.389, 'epoch': 2.2}\n",
      "{'loss': 0.3287, 'grad_norm': 58.31756591796875, 'learning_rate': 1.0379310344827587e-05, 'epoch': 2.4}\n",
      "{'eval_loss': 0.18533147871494293, 'eval_runtime': 35.7811, 'eval_samples_per_second': 27.948, 'eval_steps_per_second': 13.974, 'epoch': 2.4}\n",
      "{'loss': 0.3249, 'grad_norm': 0.044865768402814865, 'learning_rate': 6.931034482758621e-06, 'epoch': 2.6}\n",
      "{'eval_loss': 0.15776297450065613, 'eval_runtime': 35.7905, 'eval_samples_per_second': 27.94, 'eval_steps_per_second': 13.97, 'epoch': 2.6}\n",
      "{'loss': 0.2409, 'grad_norm': 14.798412322998047, 'learning_rate': 3.4827586206896552e-06, 'epoch': 2.8}\n",
      "{'eval_loss': 0.15635497868061066, 'eval_runtime': 35.871, 'eval_samples_per_second': 27.878, 'eval_steps_per_second': 13.939, 'epoch': 2.8}\n",
      "{'loss': 0.1036, 'grad_norm': 0.07337309420108795, 'learning_rate': 3.448275862068965e-08, 'epoch': 3.0}\n",
      "{'eval_loss': 0.15144692361354828, 'eval_runtime': 35.7028, 'eval_samples_per_second': 28.009, 'eval_steps_per_second': 14.004, 'epoch': 3.0}\n",
      "{'train_runtime': 1000.1527, 'train_samples_per_second': 3.0, 'train_steps_per_second': 1.5, 'train_loss': 0.5169038111368816, 'epoch': 3.0}\n",
      "Model actual device: mps:0\n",
      "Sample news input: Breaking news: The stock market crashes as investors panic.\n",
      "Predicted class: 2\n",
      "Available classes: ['World', 'Sports', 'Business', 'Sci/Tech']\n"
     ]
    }
   ],
   "source": [
    "# Code revised by GPT-5 (high reasoning) via Windsurf - fixing error to do with mac gpu acceleration\n",
    "\n",
    "# Print sample output of the news classifier\n",
    "# The previous approach used AutoModelForMaskedLM, which is not suitable for classification.\n",
    "# Instead, use AutoModelForSequenceClassification for news classification.\n",
    "import torch\n",
    "from datasets import load_dataset\n",
    "from transformers import (\n",
    "    AutoTokenizer,\n",
    "    AutoModelForSequenceClassification,\n",
    "    Trainer,\n",
    "    TrainingArguments,\n",
    ")\n",
    "import evaluate\n",
    "\n",
    "bert_model_name = \"bert-base-uncased\"\n",
    "bert_tokenizer = AutoTokenizer.from_pretrained(bert_model_name)\n",
    "\n",
    "# Choose device (prefer MPS on macOS if available)\n",
    "device = torch.device(\n",
    "    \"mps\" if torch.backends.mps.is_available() else\n",
    "    (\"cuda\" if torch.cuda.is_available() else \"cpu\")\n",
    ")\n",
    "print(\"Using device:\", device)\n",
    "\n",
    "# Load a BERT model with a classification head and move to device in float32\n",
    "news_classifier_model = AutoModelForSequenceClassification.from_pretrained(\n",
    "    bert_model_name, num_labels=4\n",
    ").to(device=device, dtype=torch.float32)\n",
    "\n",
    "# Training arguments for news classifier\n",
    "news_training_args = TrainingArguments(\n",
    "    output_dir=\"./news-classifier\",\n",
    "    eval_strategy=\"steps\",\n",
    "    eval_steps=100,\n",
    "    logging_steps=100,\n",
    "    per_device_train_batch_size=2,\n",
    "    per_device_eval_batch_size=2,\n",
    "    num_train_epochs=3,\n",
    "    weight_decay=0.01,\n",
    "    save_steps=500,\n",
    "    save_total_limit=1,\n",
    "    warmup_steps=50,\n",
    "    gradient_accumulation_steps=1,\n",
    "    fp16=torch.cuda.is_available(),  # keep fp16 off for MPS/CPU\n",
    "    report_to=[],\n",
    "    use_mps_device=torch.backends.mps.is_available(),  # ensure Trainer uses MPS if present\n",
    ")\n",
    "\n",
    "# Load the AG News dataset\n",
    "news_dataset = load_dataset(\"ag_news\", split=\"train[:1000]\")\n",
    "print(\"News dataset loaded with\", len(news_dataset), \"samples.\")\n",
    "\n",
    "# Preprocess the dataset for BERT\n",
    "def preprocess_news(examples):\n",
    "    model_inputs = bert_tokenizer(\n",
    "        examples[\"text\"], max_length=512, truncation=True, padding=\"max_length\"\n",
    "    )\n",
    "    model_inputs[\"labels\"] = examples[\"label\"]\n",
    "    return model_inputs\n",
    "\n",
    "train_news = news_dataset.map(preprocess_news, batched=True, remove_columns=news_dataset.column_names)\n",
    "\n",
    "# Create Trainer for news classifier\n",
    "news_trainer = Trainer(\n",
    "    model=news_classifier_model,\n",
    "    args=news_training_args,\n",
    "    train_dataset=train_news,\n",
    "    eval_dataset=train_news,  # For simplicity, using the same dataset for eval\n",
    "    tokenizer=bert_tokenizer,\n",
    ")\n",
    "\n",
    "# Train (you can comment this out to just test inference)\n",
    "news_trainer.train()\n",
    "\n",
    "# -------- Inference (post-training) --------\n",
    "news_classifier_model.eval()\n",
    "\n",
    "# Get the actual device the Trainer placed the model on (MPS/CPU/CUDA)\n",
    "actual_device = next(news_classifier_model.parameters()).device\n",
    "print(\"Model actual device:\", actual_device)\n",
    "\n",
    "# Tokenize and move inputs to the model's device\n",
    "sample_news_input = \"Breaking news: The stock market crashes as investors panic.\"\n",
    "inputs = bert_tokenizer(\n",
    "    sample_news_input, return_tensors=\"pt\", truncation=True, padding=True\n",
    ")\n",
    "inputs = {k: v.to(actual_device) for k, v in inputs.items()}\n",
    "\n",
    "# Warm-up pass to materialize weights on MPS\n",
    "with torch.no_grad():\n",
    "    _ = news_classifier_model(\n",
    "        input_ids=inputs[\"input_ids\"][:, :1],\n",
    "        attention_mask=inputs[\"attention_mask\"][:, :1],\n",
    "    )\n",
    "\n",
    "# Actual forward\n",
    "with torch.no_grad():\n",
    "    outputs = news_classifier_model(**inputs)\n",
    "\n",
    "pred_class = torch.argmax(outputs.logits, dim=-1).item()\n",
    "print(f\"Sample news input: {sample_news_input}\")\n",
    "print(f\"Predicted class: {pred_class}\")\n",
    "print(\"Available classes:\", news_dataset.features[\"label\"].names)"
   ]
  },
  {
   "cell_type": "code",
   "execution_count": 18,
   "id": "8c0127fc",
   "metadata": {},
   "outputs": [
    {
     "name": "stdout",
     "output_type": "stream",
     "text": [
      "Confusion Matrix:\n",
      "[[207   1   3   1]\n",
      " [  0 142   0   0]\n",
      " [  1   0 160  13]\n",
      " [  1   0   2 469]]\n"
     ]
    },
    {
     "data": {
      "image/png": "[encoded data removed]",
      "text/plain": [
       "<Figure size 1000x800 with 2 Axes>"
      ]
     },
     "metadata": {},
     "output_type": "display_data"
    }
   ],
   "source": [
    "# Code revised by GPT-5 (high reasoning) via Windsurf - fixing error to do with mac gpu acceleration\n",
    "\n",
    " \n",
    "# Generate a confusion matrix\n",
    "from sklearn.metrics import confusion_matrix\n",
    "import numpy as np\n",
    "\n",
    "# Ensure eval and align devices\n",
    "news_classifier_model.eval()\n",
    "actual_device = next(news_classifier_model.parameters()).device\n",
    "\n",
    "predictions = []\n",
    "for i in range(0, len(train_news), 32):\n",
    "    batch = train_news[i:i+32]  # dict of lists\n",
    "    inputs = {\n",
    "        \"input_ids\": torch.tensor(batch[\"input_ids\"]).to(actual_device),\n",
    "        \"attention_mask\": torch.tensor(batch[\"attention_mask\"]).to(actual_device),\n",
    "    }\n",
    "    with torch.no_grad():\n",
    "        outputs = news_classifier_model(**inputs)\n",
    "    preds = torch.argmax(outputs.logits, dim=-1).cpu().numpy()\n",
    "    predictions.extend(preds)\n",
    "\n",
    "# True labels\n",
    "true_labels = np.array(train_news[\"labels\"])\n",
    "\n",
    "#\n",
    "# Generate confusion matrix\n",
    "conf_matrix = confusion_matrix(true_labels, predictions)\n",
    "print(\"Confusion Matrix:\")\n",
    "print(conf_matrix)\n",
    "# Plot confusion matrix\n",
    "import matplotlib.pyplot as plt\n",
    "import seaborn as sns\n",
    "plt.figure(figsize=(10, 8))\n",
    "sns.heatmap(conf_matrix, annot=True, fmt=\"d\", cmap=\"Blues\",\n",
    "            xticklabels=news_dataset.features[\"label\"].names,\n",
    "            yticklabels=news_dataset.features[\"label\"].names)\n",
    "plt.xlabel(\"Predicted\")\n",
    "plt.ylabel(\"True\")\n",
    "plt.title(\"Confusion Matrix for News Classifier\")\n",
    "plt.show()\n"
   ]
  },
  {
   "cell_type": "markdown",
   "id": "914ee761",
   "metadata": {},
   "source": [
    "\n",
    "## Encoder‑decoder model: T5 fine‑tuning\n",
    "\n",
    "T5 is a text‑to‑text model that uses a separate encoder and decoder.  It naturally handles generative tasks such as summarisation.  We prepend the prefix `\"summarize: \"` to each article, then tokenize the input and the summary separately.  A `DataCollatorForSeq2Seq` takes care of padding the inputs and shifting the decoder labels.  During evaluation we use greedy decoding to produce summaries and compute ROUGE scores against the reference summaries.\n"
   ]
  },
  {
   "cell_type": "code",
   "execution_count": 19,
   "id": "b14ed723",
   "metadata": {},
   "outputs": [
    {
     "name": "stdout",
     "output_type": "stream",
     "text": [
      "Dataset splits: dict_keys(['train', 'validation', 'test'])\n",
      "Example training record: {'article': \"By . Anthony Bond . PUBLISHED: . 07:03 EST, 2 March 2013 . | . UPDATED: . 08:07 EST, 2 March 2013 . Three members of the same family who died in a static caravan from carbon monoxide poisoning would have been unconscious 'within minutes', investigators said today. The bodies of married couple John and Audrey Cook were discovered alongside their daughter, Maureen, at the mobile home they shared on Tremarle Home Park in Camborne, west Cornwall. The inquests have now opened into the deaths last Saturday, with investigators saying the three died along with the family's pet dog, of carbon monoxide poisoning from a cooker. Tragic: The inquests have opened into the deaths of three members of the same family who were found in their static caravan last weekend. John and Audrey Cook are pictured . Awful: The family died following carbon monoxide poisoning at this caravan at the Tremarle Home Park in Camborne, Cornwall . It is also believed there was no working carbon monoxide detector in the static caravan. Cornwall Fire and Rescue Service said this would have resulted in the three being unconscious 'within minutes', . A spokesman for Cornwall coroner Dr Emma Carlyon confirmed the inquests were opened and adjourned yesterday afternoon. They will resume at a later date. Devon and Cornwall Police confirmed on Monday that carbon monoxide poisoning had been established as the cause of death. A police spokesman said the source of the poisoning was 'believed to be from incorrect operation of the gas cooker'. Poisoning: This woman left flowers outside the caravan following the deaths. It has emerged that the trio would have been unconscious 'within minutes' Touching: This tribute was left outside the caravan following news of the deaths . Early readings from experts at the site revealed a potentially lethal level of carbon monoxide present within the caravan at the time it was taken, shortly after the discovery of the bodies. Friends and neighbours have paid tribute to the trio. One . neighbour, Sonya Owen, 53, said: 'It's very distressing. I knew the . daughter, she was living her with her mum and dad. Everybody is really . upset.' Margaret Holmes, 65, who lived near the couple and their . daughter, said: 'They had lived here for around 40 years and they kept . themselves to themselves. 'I just can’t believe this has . happened, it is so sad and I am so shocked, I think we all are, you just . don’t expect this sort of thing to happen on your doorstep. 'Everyone will miss them, we used to chat a lot when we were both in the garden. 'I would just like to send my condolences to their family, I can’t imagine what they’re going through.' Nic Clark, 52, who was good friends with daughter Maureen, added: 'They were a lovely kind family, a great trio. 'Maureen . used to go out and walk her dog, a little Jack Russell, it is so sad . what has happened, I understand the dog went with them. 'They . will be sorely missed and I think everyone is just in shock at the . moment, I would like to send my condolences to the Cook family.'\", 'highlights': 'John and .\\nAudrey Cook were discovered alongside their daughter, Maureen .\\nThey were found at Tremarle Home Park in Cornwall .\\nInvestigators say the three died of carbon monoxide .\\npoisoning .', 'id': '08cf276c9eadb638e0c7fdc83ce0229c8af5d09b'}\n"
     ]
    },
    {
     "data": {
      "application/vnd.jupyter.widget-view+json": {
       "model_id": "3ae64141460747908435e1fcdacb28c6",
       "version_major": 2,
       "version_minor": 0
      },
      "text/plain": [
       "tokenizer_config.json:   0%|          | 0.00/2.32k [00:00<?, ?B/s]"
      ]
     },
     "metadata": {},
     "output_type": "display_data"
    },
    {
     "data": {
      "application/vnd.jupyter.widget-view+json": {
       "model_id": "76ee3969ade84165ab382aee8de0de7f",
       "version_major": 2,
       "version_minor": 0
      },
      "text/plain": [
       "spiece.model:   0%|          | 0.00/792k [00:00<?, ?B/s]"
      ]
     },
     "metadata": {},
     "output_type": "display_data"
    },
    {
     "data": {
      "application/vnd.jupyter.widget-view+json": {
       "model_id": "be3d8dc7a8104ba6901181b5fe9f1e40",
       "version_major": 2,
       "version_minor": 0
      },
      "text/plain": [
       "tokenizer.json:   0%|          | 0.00/1.39M [00:00<?, ?B/s]"
      ]
     },
     "metadata": {},
     "output_type": "display_data"
    },
    {
     "data": {
      "application/vnd.jupyter.widget-view+json": {
       "model_id": "46202532bb624327881847bed8eec990",
       "version_major": 2,
       "version_minor": 0
      },
      "text/plain": [
       "Map:   0%|          | 0/500 [00:00<?, ? examples/s]"
      ]
     },
     "metadata": {},
     "output_type": "display_data"
    },
    {
     "data": {
      "application/vnd.jupyter.widget-view+json": {
       "model_id": "004d570e2d2f4a2aa522903f9a42c35a",
       "version_major": 2,
       "version_minor": 0
      },
      "text/plain": [
       "Map:   0%|          | 0/100 [00:00<?, ? examples/s]"
      ]
     },
     "metadata": {},
     "output_type": "display_data"
    },
    {
     "data": {
      "application/vnd.jupyter.widget-view+json": {
       "model_id": "854874b4f6e040fe91a8370be42b90d2",
       "version_major": 2,
       "version_minor": 0
      },
      "text/plain": [
       "config.json:   0%|          | 0.00/1.21k [00:00<?, ?B/s]"
      ]
     },
     "metadata": {},
     "output_type": "display_data"
    },
    {
     "data": {
      "application/vnd.jupyter.widget-view+json": {
       "model_id": "7fd0393b530742e3ab5bf27f01902e38",
       "version_major": 2,
       "version_minor": 0
      },
      "text/plain": [
       "model.safetensors:   0%|          | 0.00/242M [00:00<?, ?B/s]"
      ]
     },
     "metadata": {},
     "output_type": "display_data"
    },
    {
     "data": {
      "application/vnd.jupyter.widget-view+json": {
       "model_id": "f32c1a2122c84beb9c8729e21e677521",
       "version_major": 2,
       "version_minor": 0
      },
      "text/plain": [
       "generation_config.json:   0%|          | 0.00/147 [00:00<?, ?B/s]"
      ]
     },
     "metadata": {},
     "output_type": "display_data"
    },
    {
     "name": "stderr",
     "output_type": "stream",
     "text": [
      "/var/folders/yr/p03j319114v61sg1cs61p6r80000gn/T/ipykernel_5031/3507327657.py:54: FutureWarning: `tokenizer` is deprecated and will be removed in version 5.0.0 for `Trainer.__init__`. Use `processing_class` instead.\n",
      "  trainer_t5 = Trainer(\n",
      "/Users/rkutyna/CascadeProjects/MSIT3103/MSIT3103-GenAI-assignments/.venv/lib/python3.13/site-packages/torch/utils/data/dataloader.py:684: UserWarning: 'pin_memory' argument is set as true but not supported on MPS now, then device pinned memory won't be used.\n",
      "  warnings.warn(warn_msg)\n"
     ]
    },
    {
     "name": "stdout",
     "output_type": "stream",
     "text": [
      "{'train_runtime': 47.8178, 'train_samples_per_second': 10.456, 'train_steps_per_second': 1.318, 'train_loss': 2.4085518973214284, 'epoch': 1.0}\n"
     ]
    },
    {
     "data": {
      "text/plain": [
       "TrainOutput(global_step=63, training_loss=2.4085518973214284, metrics={'train_runtime': 47.8178, 'train_samples_per_second': 10.456, 'train_steps_per_second': 1.318, 'train_loss': 2.4085518973214284, 'epoch': 1.0})"
      ]
     },
     "execution_count": 19,
     "metadata": {},
     "output_type": "execute_result"
    }
   ],
   "source": [
    "\n",
    "from transformers import AutoTokenizer, AutoModelForSeq2SeqLM, DataCollatorForSeq2Seq, Trainer, TrainingArguments\n",
    "from datasets import load_dataset\n",
    "# Load the cnn_dailymail dataset (version 3.0.0)\n",
    "dataset = load_dataset(\"cnn_dailymail\", \"3.0.0\")\n",
    "\n",
    "# For quick experimentation, take a small subset\n",
    "train_size = 500\n",
    "val_size = 100\n",
    "small_train_dataset = dataset[\"train\"].shuffle(seed=42).select(range(train_size))\n",
    "small_val_dataset = dataset[\"validation\"].shuffle(seed=42).select(range(val_size))\n",
    "print(\"Dataset splits:\", dataset.keys())\n",
    "print(\"Example training record:\", small_train_dataset[0])\n",
    "\n",
    "# Load T5 tokenizer and model\n",
    "t5_model_name = \"t5-small\"\n",
    "t5_tokenizer = AutoTokenizer.from_pretrained(t5_model_name)\n",
    "\n",
    "def preprocess_t5(examples):\n",
    "    inputs = [\"summarize: \" + doc for doc in examples[\"article\"]]\n",
    "    model_inputs = t5_tokenizer(inputs, max_length=512, truncation=True)\n",
    "\n",
    "    # Tokenize targets\n",
    "    labels = t5_tokenizer(examples[\"highlights\"], max_length=128, truncation=True)\n",
    "    model_inputs[\"labels\"] = labels[\"input_ids\"]\n",
    "    return model_inputs\n",
    "\n",
    "train_t5 = small_train_dataset.map(preprocess_t5, batched=True, remove_columns=dataset[\"train\"].column_names)\n",
    "val_t5 = small_val_dataset.map(preprocess_t5, batched=True, remove_columns=dataset[\"validation\"].column_names)\n",
    "\n",
    "# Data collator for seq2seq tasks\n",
    "data_collator_t5 = DataCollatorForSeq2Seq(tokenizer=t5_tokenizer, model=t5_model_name)\n",
    "\n",
    "# Load T5 model\n",
    "t5_model = AutoModelForSeq2SeqLM.from_pretrained(t5_model_name)\n",
    "\n",
    "# Training arguments for T5\n",
    "training_args_t5 = TrainingArguments(\n",
    "    output_dir=\"./t5-summarization\",\n",
    "    eval_strategy=\"steps\",\n",
    "    eval_steps=100,\n",
    "    logging_steps=100,\n",
    "    per_device_train_batch_size=2,\n",
    "    per_device_eval_batch_size=2,\n",
    "    num_train_epochs=1,\n",
    "    weight_decay=0.01,\n",
    "    save_steps=500,\n",
    "    save_total_limit=1,\n",
    "    warmup_steps=50,\n",
    "    gradient_accumulation_steps=4,\n",
    "    fp16=torch.cuda.is_available(),\n",
    "    report_to=[],\n",
    ")\n",
    "\n",
    "trainer_t5 = Trainer(\n",
    "    model=t5_model,\n",
    "    args=training_args_t5,\n",
    "    train_dataset=train_t5,\n",
    "    eval_dataset=val_t5,\n",
    "    data_collator=data_collator_t5,\n",
    "    tokenizer=t5_tokenizer,\n",
    ")\n",
    "\n",
    "# Uncomment the line below to train the T5 model\n",
    "trainer_t5.train()\n"
   ]
  },
  {
   "cell_type": "markdown",
   "id": "ceb1ffa7",
   "metadata": {},
   "source": [
    "\n",
    "## Evaluation\n",
    "\n",
    "After fine‑tuning the models (training steps are commented out by default), we evaluate them on the validation subset. Different metrics are appropriate for each architecture:\n",
    "\n",
    "* **GPT‑2** (decoder‑only): We generate summaries using greedy decoding and compute ROUGE metrics (ROUGE‑1, ROUGE‑2, ROUGE‑L). We also compute perplexity using the loss returned by the trainer.\n",
    "\n",
    "* **BERT** (encoder‑only): BERT is not designed to generate full sequences; instead we use it for downstream tasks such as text classification. For a classification scenario, the evaluation metrics are typically confusion matrix and F1-score.\n",
    "\n",
    "* **T5** (encoder‑decoder): We generate summaries using greedy decoding and compute ROUGE metrics.  Perplexity is computed similarly to GPT‑2 by exponentiating the validation loss.\n",
    "\n",
    "The code below demonstrates evaluation routines for each model. Running these functions requires trained models; if you skipped training above, the evaluation will use the pre‑trained weights and therefore will not yield good summarization quality.\n"
   ]
  },
  {
   "cell_type": "code",
   "execution_count": 22,
   "id": "8d4253cb",
   "metadata": {},
   "outputs": [
    {
     "name": "stderr",
     "output_type": "stream",
     "text": [
      "/Users/rkutyna/CascadeProjects/MSIT3103/MSIT3103-GenAI-assignments/.venv/lib/python3.13/site-packages/torch/utils/data/dataloader.py:684: UserWarning: 'pin_memory' argument is set as true but not supported on MPS now, then device pinned memory won't be used.\n",
      "  warnings.warn(warn_msg)\n"
     ]
    },
    {
     "name": "stdout",
     "output_type": "stream",
     "text": [
      "{'eval_loss': 2.945127010345459, 'eval_runtime': 10.8706, 'eval_samples_per_second': 9.199, 'eval_steps_per_second': 4.6, 'epoch': 1.0}\n"
     ]
    },
    {
     "ename": "ValueError",
     "evalue": "Input length of input_ids is 394, but `max_length` is set to 128. This can lead to unexpected behavior. You should consider increasing `max_length` or, better yet, setting `max_new_tokens`.",
     "output_type": "error",
     "traceback": [
      "\u001b[31m---------------------------------------------------------------------------\u001b[39m",
      "\u001b[31mValueError\u001b[39m                                Traceback (most recent call last)",
      "\u001b[36mCell\u001b[39m\u001b[36m \u001b[39m\u001b[32mIn[22]\u001b[39m\u001b[32m, line 32\u001b[39m\n\u001b[32m     30\u001b[39m gpt2_eval_results = trainer_gpt2.evaluate()\n\u001b[32m     31\u001b[39m gpt2_perplexity = compute_perplexity(gpt2_eval_results)\n\u001b[32m---> \u001b[39m\u001b[32m32\u001b[39m rouge_gpt2 = \u001b[43mevaluate_gpt2\u001b[49m\u001b[43m(\u001b[49m\u001b[43mgpt2_model\u001b[49m\u001b[43m,\u001b[49m\u001b[43m \u001b[49m\u001b[43mgpt2_tokenizer\u001b[49m\u001b[43m,\u001b[49m\u001b[43m \u001b[49m\u001b[43msmall_val_dataset\u001b[49m\u001b[43m)\u001b[49m\n\u001b[32m     33\u001b[39m \u001b[38;5;28mprint\u001b[39m(\u001b[33m\"\u001b[39m\u001b[33mGPT-2 Perplexity:\u001b[39m\u001b[33m\"\u001b[39m, gpt2_perplexity)\n\u001b[32m     34\u001b[39m \u001b[38;5;28mprint\u001b[39m(\u001b[33m\"\u001b[39m\u001b[33mGPT-2 ROUGE:\u001b[39m\u001b[33m\"\u001b[39m, rouge_gpt2)\n",
      "\u001b[36mCell\u001b[39m\u001b[36m \u001b[39m\u001b[32mIn[22]\u001b[39m\u001b[32m, line 17\u001b[39m, in \u001b[36mevaluate_gpt2\u001b[39m\u001b[34m(model, tokenizer, dataset, num_samples)\u001b[39m\n\u001b[32m     15\u001b[39m inputs = tokenizer(prompt, return_tensors=\u001b[33m\"\u001b[39m\u001b[33mpt\u001b[39m\u001b[33m\"\u001b[39m, truncation=\u001b[38;5;28;01mTrue\u001b[39;00m, max_length=\u001b[32m512\u001b[39m).to(model.device)\n\u001b[32m     16\u001b[39m \u001b[38;5;28;01mwith\u001b[39;00m torch.no_grad():\n\u001b[32m---> \u001b[39m\u001b[32m17\u001b[39m     output_ids = \u001b[43mmodel\u001b[49m\u001b[43m.\u001b[49m\u001b[43mgenerate\u001b[49m\u001b[43m(\u001b[49m\u001b[43m*\u001b[49m\u001b[43m*\u001b[49m\u001b[43minputs\u001b[49m\u001b[43m,\u001b[49m\u001b[43m \u001b[49m\u001b[43mmax_length\u001b[49m\u001b[43m=\u001b[49m\u001b[32;43m128\u001b[39;49m\u001b[43m)\u001b[49m\n\u001b[32m     18\u001b[39m summary = tokenizer.decode(output_ids[\u001b[32m0\u001b[39m], skip_special_tokens=\u001b[38;5;28;01mTrue\u001b[39;00m)\n\u001b[32m     19\u001b[39m preds.append(summary)\n",
      "\u001b[36mFile \u001b[39m\u001b[32m~/CascadeProjects/MSIT3103/MSIT3103-GenAI-assignments/.venv/lib/python3.13/site-packages/torch/utils/_contextlib.py:120\u001b[39m, in \u001b[36mcontext_decorator.<locals>.decorate_context\u001b[39m\u001b[34m(*args, **kwargs)\u001b[39m\n\u001b[32m    117\u001b[39m \u001b[38;5;129m@functools\u001b[39m.wraps(func)\n\u001b[32m    118\u001b[39m \u001b[38;5;28;01mdef\u001b[39;00m\u001b[38;5;250m \u001b[39m\u001b[34mdecorate_context\u001b[39m(*args, **kwargs):\n\u001b[32m    119\u001b[39m     \u001b[38;5;28;01mwith\u001b[39;00m ctx_factory():\n\u001b[32m--> \u001b[39m\u001b[32m120\u001b[39m         \u001b[38;5;28;01mreturn\u001b[39;00m \u001b[43mfunc\u001b[49m\u001b[43m(\u001b[49m\u001b[43m*\u001b[49m\u001b[43margs\u001b[49m\u001b[43m,\u001b[49m\u001b[43m \u001b[49m\u001b[43m*\u001b[49m\u001b[43m*\u001b[49m\u001b[43mkwargs\u001b[49m\u001b[43m)\u001b[49m\n",
      "\u001b[36mFile \u001b[39m\u001b[32m~/CascadeProjects/MSIT3103/MSIT3103-GenAI-assignments/.venv/lib/python3.13/site-packages/transformers/generation/utils.py:2386\u001b[39m, in \u001b[36mGenerationMixin.generate\u001b[39m\u001b[34m(self, inputs, generation_config, logits_processor, stopping_criteria, prefix_allowed_tokens_fn, synced_gpus, assistant_model, streamer, negative_prompt_ids, negative_prompt_attention_mask, use_model_defaults, custom_generate, **kwargs)\u001b[39m\n\u001b[32m   2383\u001b[39m \u001b[38;5;28;01mif\u001b[39;00m \u001b[38;5;28mself\u001b[39m._supports_logits_to_keep() \u001b[38;5;129;01mand\u001b[39;00m \u001b[33m\"\u001b[39m\u001b[33mlogits_to_keep\u001b[39m\u001b[33m\"\u001b[39m \u001b[38;5;129;01mnot\u001b[39;00m \u001b[38;5;129;01min\u001b[39;00m model_kwargs:\n\u001b[32m   2384\u001b[39m     model_kwargs[\u001b[33m\"\u001b[39m\u001b[33mlogits_to_keep\u001b[39m\u001b[33m\"\u001b[39m] = \u001b[32m1\u001b[39m\n\u001b[32m-> \u001b[39m\u001b[32m2386\u001b[39m \u001b[38;5;28;43mself\u001b[39;49m\u001b[43m.\u001b[49m\u001b[43m_validate_generated_length\u001b[49m\u001b[43m(\u001b[49m\u001b[43mgeneration_config\u001b[49m\u001b[43m,\u001b[49m\u001b[43m \u001b[49m\u001b[43minput_ids_length\u001b[49m\u001b[43m,\u001b[49m\u001b[43m \u001b[49m\u001b[43mhas_default_max_length\u001b[49m\u001b[43m)\u001b[49m\n\u001b[32m   2388\u001b[39m \u001b[38;5;66;03m# 7. Prepare the cache.\u001b[39;00m\n\u001b[32m   2389\u001b[39m \u001b[38;5;66;03m# - `model_kwargs` may be updated in place with a cache as defined by the parameters in `generation_config`.\u001b[39;00m\n\u001b[32m   2390\u001b[39m \u001b[38;5;66;03m# - different models have a different cache name expected by the model (default = \"past_key_values\")\u001b[39;00m\n\u001b[32m   2391\u001b[39m \u001b[38;5;66;03m# - `max_length`, prepared above, is used to determine the maximum cache length\u001b[39;00m\n\u001b[32m   2392\u001b[39m max_cache_length = generation_config.max_length - \u001b[32m1\u001b[39m\n",
      "\u001b[36mFile \u001b[39m\u001b[32m~/CascadeProjects/MSIT3103/MSIT3103-GenAI-assignments/.venv/lib/python3.13/site-packages/transformers/generation/utils.py:1602\u001b[39m, in \u001b[36mGenerationMixin._validate_generated_length\u001b[39m\u001b[34m(self, generation_config, input_ids_length, has_default_max_length)\u001b[39m\n\u001b[32m   1600\u001b[39m \u001b[38;5;28;01mif\u001b[39;00m input_ids_length >= generation_config.max_length:\n\u001b[32m   1601\u001b[39m     input_ids_string = \u001b[33m\"\u001b[39m\u001b[33mdecoder_input_ids\u001b[39m\u001b[33m\"\u001b[39m \u001b[38;5;28;01mif\u001b[39;00m \u001b[38;5;28mself\u001b[39m.config.is_encoder_decoder \u001b[38;5;28;01melse\u001b[39;00m \u001b[33m\"\u001b[39m\u001b[33minput_ids\u001b[39m\u001b[33m\"\u001b[39m\n\u001b[32m-> \u001b[39m\u001b[32m1602\u001b[39m     \u001b[38;5;28;01mraise\u001b[39;00m \u001b[38;5;167;01mValueError\u001b[39;00m(\n\u001b[32m   1603\u001b[39m         \u001b[33mf\u001b[39m\u001b[33m\"\u001b[39m\u001b[33mInput length of \u001b[39m\u001b[38;5;132;01m{\u001b[39;00minput_ids_string\u001b[38;5;132;01m}\u001b[39;00m\u001b[33m is \u001b[39m\u001b[38;5;132;01m{\u001b[39;00minput_ids_length\u001b[38;5;132;01m}\u001b[39;00m\u001b[33m, but `max_length` is set to\u001b[39m\u001b[33m\"\u001b[39m\n\u001b[32m   1604\u001b[39m         \u001b[33mf\u001b[39m\u001b[33m\"\u001b[39m\u001b[33m \u001b[39m\u001b[38;5;132;01m{\u001b[39;00mgeneration_config.max_length\u001b[38;5;132;01m}\u001b[39;00m\u001b[33m. This can lead to unexpected behavior. You should consider\u001b[39m\u001b[33m\"\u001b[39m\n\u001b[32m   1605\u001b[39m         \u001b[33m\"\u001b[39m\u001b[33m increasing `max_length` or, better yet, setting `max_new_tokens`.\u001b[39m\u001b[33m\"\u001b[39m\n\u001b[32m   1606\u001b[39m     )\n\u001b[32m   1608\u001b[39m \u001b[38;5;66;03m# 2. Min length warnings due to unfeasible parameter combinations\u001b[39;00m\n\u001b[32m   1609\u001b[39m min_length_error_suffix = (\n\u001b[32m   1610\u001b[39m     \u001b[33m\"\u001b[39m\u001b[33m Generation will stop at the defined maximum length. You should decrease the minimum length and/or \u001b[39m\u001b[33m\"\u001b[39m\n\u001b[32m   1611\u001b[39m     \u001b[33m\"\u001b[39m\u001b[33mincrease the maximum length.\u001b[39m\u001b[33m\"\u001b[39m\n\u001b[32m   1612\u001b[39m )\n",
      "\u001b[31mValueError\u001b[39m: Input length of input_ids is 394, but `max_length` is set to 128. This can lead to unexpected behavior. You should consider increasing `max_length` or, better yet, setting `max_new_tokens`."
     ]
    }
   ],
   "source": [
    "\n",
    "# Define ROUGE metric\n",
    "evaluate_rouge = evaluate.load(\"rouge\")\n",
    "\n",
    "def compute_metrics_rouge(preds, refs):\n",
    "    # Compute ROUGE scores; use newline separation between sentences in each text\n",
    "    result = evaluate_rouge.compute(predictions=preds, references=refs, use_stemmer=True)\n",
    "    return {k: round(v * 100, 2) for k, v in result.items()}\n",
    "\n",
    "# Function to generate summaries with GPT-2\n",
    "def evaluate_gpt2(model, tokenizer, dataset, num_samples=10):\n",
    "    model.eval()\n",
    "    preds, refs = [], []\n",
    "    for i, example in enumerate(dataset.select(range(num_samples))):\n",
    "        prompt = \"summarize: \" + example[\"article\"]\n",
    "        inputs = tokenizer(prompt, return_tensors=\"pt\", truncation=True, max_length=512).to(model.device)\n",
    "        with torch.no_grad():\n",
    "            output_ids = model.generate(**inputs, max_length=128)\n",
    "        summary = tokenizer.decode(output_ids[0], skip_special_tokens=True)\n",
    "        preds.append(summary)\n",
    "        refs.append(example[\"highlights\"])\n",
    "    rouge_scores = compute_metrics_rouge(preds, refs)\n",
    "    return rouge_scores\n",
    "\n",
    "# Function to compute perplexity from evaluation loss\n",
    "def compute_perplexity(eval_output):\n",
    "    loss = eval_output[\"eval_loss\"]\n",
    "    return round(torch.exp(torch.tensor(loss)).item(), 3)\n",
    "\n",
    "# Evaluate GPT-2 (if trained) -- example usage\n",
    "gpt2_eval_results = trainer_gpt2.evaluate()\n",
    "gpt2_perplexity = compute_perplexity(gpt2_eval_results)\n",
    "rouge_gpt2 = evaluate_gpt2(gpt2_model, gpt2_tokenizer, small_val_dataset)\n",
    "print(\"GPT-2 Perplexity:\", gpt2_perplexity)\n",
    "print(\"GPT-2 ROUGE:\", rouge_gpt2)\n",
    "\n",
    "# BERT evaluation: compute F1 score - sklearn classification report\n",
    "from sklearn.metrics import classification_report\n",
    "def evaluate_bert(model, dataset):\n",
    "    model.eval()\n",
    "    predictions = []\n",
    "    for i in range(0, len(dataset), 32):  # Batch size of 32\n",
    "        batch = dataset[i:i+32]\n",
    "        # batch is a dict with keys: input_ids, token_type_ids, attention_mask, labels\n",
    "        # You need to decode input_ids to get the original text if you want to print or use text\n",
    "        # For inference, use input_ids, attention_mask, etc.\n",
    "        inputs = {\n",
    "            \"input_ids\": torch.tensor(batch[\"input_ids\"]).to(device),\n",
    "            \"attention_mask\": torch.tensor(batch[\"attention_mask\"]).to(device)\n",
    "        }\n",
    "        with torch.no_grad():\n",
    "            outputs = news_classifier_model(**inputs)\n",
    "        preds = torch.argmax(outputs.logits, dim=-1).cpu().numpy()\n",
    "        predictions.extend(preds)\n",
    "\n",
    "    true_labels = np.array(dataset[\"labels\"])\n",
    "    # Generate classification report\n",
    "    report = classification_report(true_labels, predictions, output_dict=True)\n",
    "    return report\n",
    "# Evaluate on random 100 samples\n",
    "bert_eval_results = evaluate_bert(news_classifier_model, train_news.shuffle(seed=42).select(range(100)))\n",
    "import json\n",
    "print(\"BERT Evaluation Report:\", json.dumps(bert_eval_results, indent=2))\n",
    "\n",
    "# Demonstrate fill-mask prediction with BERT\n",
    "# from transformers import pipeline\n",
    "# fill_mask = pipeline(\"fill-mask\", model=bert_model, tokenizer=bert_tokenizer)\n",
    "# sentence = \"The weather today is [MASK].\"\n",
    "# print(fill_mask(sentence))\n",
    "\n",
    "# T5 evaluation\n",
    "# t5_eval_results = trainer_t5.evaluate()\n",
    "# t5_perplexity = compute_perplexity(t5_eval_results)\n",
    "\n",
    "# def evaluate_t5(model, tokenizer, dataset, num_samples=10):\n",
    "#     model.eval()\n",
    "#     preds, refs = [], []\n",
    "#     for i, example in enumerate(dataset.select(range(num_samples))):\n",
    "#         input_text = \"summarize: \" + example[\"article\"]\n",
    "#         inputs = tokenizer(input_text, return_tensors=\"pt\", truncation=True, max_length=512).to(model.device)\n",
    "#         with torch.no_grad():\n",
    "#             output_ids = model.generate(**inputs, max_length=128)\n",
    "#         summary = tokenizer.decode(output_ids[0], skip_special_tokens=True)\n",
    "#         preds.append(summary)\n",
    "#         refs.append(example[\"highlights\"])\n",
    "#     rouge_scores = compute_metrics_rouge(preds, refs)\n",
    "#     return rouge_scores\n",
    "\n",
    "# rouge_t5 = evaluate_t5(t5_model, t5_tokenizer, small_val_dataset)\n",
    "# print(\"T5 Perplexity:\", t5_perplexity)\n",
    "# print(\"T5 ROUGE:\", rouge_t5)\n"
   ]
  },
  {
   "cell_type": "markdown",
   "id": "31a8a2bb",
   "metadata": {},
   "source": [
    "\n",
    "## Analysis and discussion\n",
    "\n",
    "After fine‑tuning the models and running the evaluation routines, you should fill in a comparison of the results.  Typical observations include:\n",
    "\n",
    "- **Decoder‑only (GPT‑2):** GPT‑2 fine‑tuned on a summarization corpus learns to generate coherent summaries.  Its perplexity should decrease significantly compared with the pre‑trained model, and ROUGE scores should improve.  Because GPT‑2 has no separate encoder, it must memorize how to map the input prompt to the desired output, which can make training less sample‑efficient for conditional tasks.  However, at inference time GPT‑2 generates outputs quickly via a single decoder.\n",
    "\n",
    "- **Encoder‑only (BERT):** BERT excels at understanding tasks but struggles with generative tasks.  MLM fine‑tuning improves its perplexity on the article‑summary text, but it cannot generate full summaries.  The `fill‑mask` pipeline can fill individual tokens, but the lack of an auto‑regressive decoder makes long‑form generation impractical.  This illustrates why encoder‑only architectures are not suited for free‑form text generation.\n",
    "\n",
    "- **Encoder‑decoder (T5):** T5 is designed for text‑to‑text tasks and typically achieves the best summarization scores among the three models when fine‑tuned properly.  Its separate encoder compresses the input, and the decoder generates output conditioned on the encoded context.  T5 often yields higher ROUGE scores and lower perplexity than GPT‑2 on summarization because the architecture explicitly models conditional generation.  The trade‑off is increased computational cost due to the encoder and decoder.\n",
    "\n",
    "### Chain‑of‑thought (CoT) reasoning\n",
    "\n",
    "Chain‑of‑thought reasoning refers to models generating intermediate reasoning steps before arriving at a final answer.  Decoder‑only models (like GPT‑2 and GPT‑3) naturally support CoT prompting because they generate text token by token.  Encoder‑decoder models like T5 can also perform CoT when prompted appropriately (e.g. instructing the model to \"think step by step\").  Encoder‑only models lack a decoding mechanism and therefore are not directly applicable to CoT generation.  In practice, CoT reasoning quality improves with larger models and more sophisticated training (e.g. instruction‑tuning or reinforcement learning with human feedback), which are beyond the scope of this introductory exercise.\n",
    "\n",
    "## Conclusion\n",
    "\n",
    "In this notebook we implemented and compared three transformer architectures on a common summarization task using the CNN/DailyMail dataset.  We demonstrated how to fine‑tune a decoder‑only model (GPT‑2), an encoder‑only model (BERT), and an encoder‑decoder model (T5).  The code illustrated data preprocessing, training setups, and evaluation routines using ROUGE and perplexity metrics.  While only small subsets of the dataset were used for demonstration purposes, you should expand the training data and adjust hyperparameters for a thorough experiment.  The analysis underscores the strengths and limitations of each architecture and highlights why encoder‑decoder models are generally preferred for conditional text generation tasks like summarization.\n"
   ]
  },
  {
   "cell_type": "markdown",
   "id": "81364b3c",
   "metadata": {},
   "source": [
    "# Assignment 2: Transformer Architecture Exercise\n",
    "Use this notebook as a starting point and expand on your understanding of transformer models by completing the following structured tasks. You are encouraged to experiment, analyze, and critically reflect on your findings in your report.\n",
    "\n",
    "## Part 1: Model Training & Implementation\n",
    "### 1. Dataset Preparation\n",
    "- Choose one standard text dataset suitable for generative tasks. Options include:\n",
    "  - CNN/DailyMail → summarization\n",
    "  - WikiText-2 → language modeling (text generation)\n",
    "  - SQuAD v1.1 → question answering\n",
    "- Briefly describe why you selected this dataset and what task you’ll evaluate (summarization, QA, or text generation).\n",
    "- Show how you preprocessed the data (tokenization, train/val split, max length, etc.).\n",
    "\n",
    "### 2. Model Implementation\n",
    "\n",
    "Implement and train the following:\n",
    "- Decoder-only model (GPT-style): e.g., GPT-2 small from Hugging Face.\n",
    "- Encoder-only model (BERT-style): e.g., BERT-base, used for masked-language-modeling or extractive QA/summarization.\n",
    "- Encoder-decoder model (T5-style): e.g., T5-small, trained for the same dataset/task as the other two.\n",
    "\n",
    "### 3. Training Documentation\n",
    "\n",
    "- Document your training setup (batch size, learning rate, optimizer, epochs, hardware).\n",
    "- Save a few training/validation loss curves or logs to show how training progressed.\n",
    "- Mention any difficulties you faced and how you addressed them (e.g., memory limits, convergence).\n",
    "\n",
    "## Part 2: Evaluation & Analysis\n",
    "\n",
    "### 4. Performance Evaluation\n",
    "\n",
    "- Evaluate all three models on the same task.\n",
    "- Report results using at least two metrics:\n",
    "  - Text generation/summarization: BLEU, ROUGE, perplexity\n",
    "  - Question answering: F1, Exact Match (EM), BLEU\n",
    "- Include 1–2 sample outputs per model to illustrate qualitative differences.\n",
    "\n",
    "### 5. Comparative Discussion\n",
    "\n",
    "- Compare the strengths and weaknesses of each architecture on your chosen task.\n",
    "- Suggested angles:\n",
    "\n",
    "  - Decoder-only: fluent text generation, but weaker at bidirectional context.\n",
    "  - Encoder-only: strong understanding of context, but not designed for open generation.\n",
    "  - Encoder-decoder: flexible, strong on conditional generation tasks (summarization, QA).\n",
    "\n",
    "- Which model seemed easiest to fine-tune?\n",
    "- Which produced the best outputs on your dataset?\n",
    "- Which was the most efficient (speed, memory)?\n",
    "\n",
    "### 6. Reflections on Applicability\n",
    "\n",
    "- In what real-world scenarios would you prefer each architecture?\n",
    "- Briefly note whether you think CoT reasoning would have helped these models if you had added it (conceptual discussion only—no experiments required)."
   ]
  }
 ],
 "metadata": {
  "kernelspec": {
   "display_name": ".venv",
   "language": "python",
   "name": "python3"
  },
  "language_info": {
   "codemirror_mode": {
    "name": "ipython",
    "version": 3
   },
   "file_extension": ".py",
   "mimetype": "text/x-python",
   "name": "python",
   "nbconvert_exporter": "python",
   "pygments_lexer": "ipython3",
   "version": "3.13.5"
  }
 },
 "nbformat": 4,
 "nbformat_minor": 5
}
